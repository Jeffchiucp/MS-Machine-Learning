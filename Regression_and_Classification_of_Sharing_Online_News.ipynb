{
 "cells": [
  {
   "cell_type": "markdown",
   "metadata": {},
   "source": [
    "<center><h1>Prediciting How Much Mashable News is Shared with Regression and Classification</h1></center>\n",
    "<center><img src='img/mashable-logo.png' height=20% width=20%></center>\n",
    "Dataset from [UCI Machine Learning Repository](https://archive.ics.uci.edu/ml/datasets/Online+News+Popularity)"
   ]
  },
  {
   "cell_type": "code",
   "execution_count": 1,
   "metadata": {
    "collapsed": true
   },
   "outputs": [],
   "source": [
    "import pandas as pd\n",
    "import numpy as np\n",
    "import matplotlib.pyplot as plt\n",
    "%matplotlib inline\n",
    "np.random.seed(0)"
   ]
  },
  {
   "cell_type": "markdown",
   "metadata": {},
   "source": [
    "Attribute Information: \n",
    "0. url: URL of the article (non-predictive) \n",
    "    - delete\n",
    "1. timedelta: Days between the article publication and the dataset acquisition (non-predictive) \n",
    "    - delete\n",
    "2. n_tokens_title: Number of words in the title \n",
    "    - self-explanatory \n",
    "3. n_tokens_content: Number of words in the content \n",
    "    - self-explanatory \n",
    "4. n_unique_tokens: Rate of unique words in the content \n",
    "    - self-explanatory\n",
    "5. n_non_stop_words: Rate of non-stop words in the content \n",
    "    - self-explanatory \n",
    "6. n_non_stop_unique_tokens: Rate of unique non-stop words in the content \n",
    "    - ???????\n",
    "7. num_hrefs: Number of links \n",
    "    - self-explanatory \n",
    "8. num_self_hrefs: Number of links to other articles published by Mashable \n",
    "    - self-explanatory \n",
    "9. num_imgs: Number of images \n",
    "    - self-explanatory \n",
    "10. num_videos: Number of videos \n",
    "    - self-explanatory \n",
    "11. average_token_length: Average length of the words in the content \n",
    "    - self-explanatory \n",
    "12. num_keywords: Number of keywords in the metadata \n",
    "    - self-explanatory \n",
    "13. data_channel_is_lifestyle: Is data channel 'Lifestyle'? \n",
    "    - self-explanatory \n",
    "14. data_channel_is_entertainment: Is data channel 'Entertainment'? \n",
    "    - self-explanatory \n",
    "15. data_channel_is_bus: Is data channel 'Business'? \n",
    "    - self-explanatory \n",
    "16. data_channel_is_socmed: Is data channel 'Social Media'? \n",
    "    - self-explanatory \n",
    "17. data_channel_is_tech: Is data channel 'Tech'? \n",
    "    - self-explanatory \n",
    "18. data_channel_is_world: Is data channel 'World'? \n",
    "    - self-explanatory \n",
    "19. kw_min_min: Worst keyword (min. shares) \n",
    "    - ??????\n",
    "20. kw_max_min: Worst keyword (max. shares) \n",
    "    - ??????\n",
    "21. kw_avg_min: Worst keyword (avg. shares) \n",
    "    - ??????\n",
    "22. kw_min_max: Best keyword (min. shares) \n",
    "    - ??????\n",
    "23. kw_max_max: Best keyword (max. shares) \n",
    "    - ??????\n",
    "24. kw_avg_max: Best keyword (avg. shares) \n",
    "    - ??????\n",
    "25. kw_min_avg: Avg. keyword (min. shares) \n",
    "    - ??????\n",
    "26. kw_max_avg: Avg. keyword (max. shares) \n",
    "    - ??????\n",
    "27. kw_avg_avg: Avg. keyword (avg. shares) \n",
    "    - ??????\n",
    "28. self_reference_min_shares: Min. shares of referenced articles in Mashable \n",
    "    - self-explanatory \n",
    "29. self_reference_max_shares: Max. shares of referenced articles in Mashable \n",
    "    - self-explanatory \n",
    "30. self_reference_avg_sharess: Avg. shares of referenced articles in Mashable \n",
    "    - self-explanatory \n",
    "31. weekday_is_monday: Was the article published on a Monday? \n",
    "    - self-explanatory \n",
    "32. weekday_is_tuesday: Was the article published on a Tuesday? \n",
    "    - self-explanatory \n",
    "33. weekday_is_wednesday: Was the article published on a Wednesday? \n",
    "    - self-explanatory \n",
    "34. weekday_is_thursday: Was the article published on a Thursday? \n",
    "    - self-explanatory \n",
    "35. weekday_is_friday: Was the article published on a Friday? \n",
    "    - self-explanatory \n",
    "36. weekday_is_saturday: Was the article published on a Saturday? \n",
    "    - self-explanatory \n",
    "37. weekday_is_sunday: Was the article published on a Sunday? \n",
    "    - self-explanatory \n",
    "38. is_weekend: Was the article published on the weekend? \n",
    "    - self-explanatory \n",
    "39. LDA_00: Closeness to LDA topic 0 \n",
    "    - ??????\n",
    "40. LDA_01: Closeness to LDA topic 1 \n",
    "    - ??????\n",
    "41. LDA_02: Closeness to LDA topic 2 \n",
    "    - ??????\n",
    "42. LDA_03: Closeness to LDA topic 3 \n",
    "    - ??????\n",
    "43. LDA_04: Closeness to LDA topic 4 \n",
    "    - ??????\n",
    "44. global_subjectivity: Text subjectivity \n",
    "    - ??????\n",
    "45. global_sentiment_polarity: Text sentiment polarity \n",
    "    - ??????\n",
    "46. global_rate_positive_words: Rate of positive words in the content \n",
    "    - ??????\n",
    "47. global_rate_negative_words: Rate of negative words in the content \n",
    "    - ??????\n",
    "48. rate_positive_words: Rate of positive words among non-neutral tokens \n",
    "    - ??????\n",
    "49. rate_negative_words: Rate of negative words among non-neutral tokens \n",
    "    - ??????\n",
    "50. avg_positive_polarity: Avg. polarity of positive words \n",
    "    - ??????\n",
    "51. min_positive_polarity: Min. polarity of positive words \n",
    "    - ??????\n",
    "52. max_positive_polarity: Max. polarity of positive words \n",
    "    - ??????\n",
    "53. avg_negative_polarity: Avg. polarity of negative words \n",
    "    - ??????\n",
    "54. min_negative_polarity: Min. polarity of negative words \n",
    "    - ??????\n",
    "55. max_negative_polarity: Max. polarity of negative words \n",
    "    - ??????\n",
    "56. title_subjectivity: Title subjectivity \n",
    "    - ??????\n",
    "57. title_sentiment_polarity: Title polarity \n",
    "    - ??????\n",
    "58. abs_title_subjectivity: Absolute subjectivity level \n",
    "    - ??????\n",
    "59. abs_title_sentiment_polarity: Absolute polarity level \n",
    "    - ??????\n",
    "60. shares: Number of shares (target)\n",
    "    - self-explanatory "
   ]
  },
  {
   "cell_type": "code",
   "execution_count": 34,
   "metadata": {},
   "outputs": [
    {
     "data": {
      "text/plain": [
       "count    39644.000000\n",
       "mean        26.106801\n",
       "std         69.633215\n",
       "min         -1.000000\n",
       "25%         -1.000000\n",
       "50%         -1.000000\n",
       "75%          4.000000\n",
       "max        377.000000\n",
       "Name: kw_min_min, dtype: float64"
      ]
     },
     "execution_count": 34,
     "metadata": {},
     "output_type": "execute_result"
    }
   ],
   "source": [
    "# Read .csv\n",
    "news_df = pd.read_csv('datasets/OnlineNewsPopularity.csv')\n",
    "\n",
    "# Remove whitespace from column headers\n",
    "news_df.rename(columns=lambda x: x.strip(), inplace=True)\n",
    "\n",
    "# Drop url and timedelta because they are both non-predictive\n",
    "news_df.drop(['url', 'timedelta'], axis=1, inplace=True)\n",
    "news_df['kw_min_min'].describe()"
   ]
  },
  {
   "cell_type": "code",
   "execution_count": 28,
   "metadata": {},
   "outputs": [
    {
     "data": {
      "text/plain": [
       "0"
      ]
     },
     "execution_count": 28,
     "metadata": {},
     "output_type": "execute_result"
    }
   ],
   "source": [
    "# Count of null values\n",
    "news_df.isnull().sum().sum()"
   ]
  },
  {
   "cell_type": "code",
   "execution_count": null,
   "metadata": {
    "collapsed": true
   },
   "outputs": [],
   "source": []
  }
 ],
 "metadata": {
  "kernelspec": {
   "display_name": "Python 3",
   "language": "python",
   "name": "python3"
  },
  "language_info": {
   "codemirror_mode": {
    "name": "ipython",
    "version": 3
   },
   "file_extension": ".py",
   "mimetype": "text/x-python",
   "name": "python",
   "nbconvert_exporter": "python",
   "pygments_lexer": "ipython3",
   "version": "3.6.3"
  }
 },
 "nbformat": 4,
 "nbformat_minor": 2
}
